{
 "cells": [
  {
   "cell_type": "code",
   "execution_count": null,
   "metadata": {},
   "outputs": [],
   "source": []
  },
  {
   "cell_type": "markdown",
   "metadata": {},
   "source": [
    "## The Challenge \n",
    "\n",
    "For a given number, return the next largest number that can be created by rearranging that number's digits.\n",
    "\n",
    "If no larger number can be created, return -1"
   ]
  },
  {
   "cell_type": "code",
   "execution_count": 24,
   "metadata": {},
   "outputs": [],
   "source": [
    "import pandas as pd\n",
    "import numpy as np\n",
    "import array as arr \n",
    "from itertools import permutations\n",
    "import random"
   ]
  },
  {
   "cell_type": "code",
   "execution_count": 148,
   "metadata": {},
   "outputs": [
    {
     "name": "stdout",
     "output_type": "stream",
     "text": [
      "71350\n"
     ]
    }
   ],
   "source": [
    "#ENTER THE NUMBER HERE\n",
    "input_num = 71305\n",
    "\n",
    "#convert the number to a string of digits\n",
    "input_string = f'{input_num}'\n",
    "\n",
    "#this function will generate all permutations of the list (a bunch of tuples) and join them back into strings\n",
    "def all_combos(input_string):\n",
    "    return [''.join(i) for i in permutations(input_string)]\n",
    "\n",
    "#this function will run the function above and locate/print the next larger number\n",
    "def next_num(input_string):\n",
    "    \n",
    "    #run the 'all_combos' function above\n",
    "    output = all_combos(input_string)\n",
    "\n",
    "    #sort the output - this is a list of strings\n",
    "    sorted_output = sorted(output)\n",
    "\n",
    "    #locate the index of the input number\n",
    "    num_index = sorted_output.index(input_string)\n",
    "    value = num_index\n",
    "\n",
    "    #locate the input number and identify the number to the right of it (the next largest number) in the storted string\n",
    "    keep = []\n",
    "    discard = []\n",
    "\n",
    "    for index, digit in enumerate(sorted_output):\n",
    "        #locate the number next to the input number\n",
    "        if index == value + 1:\n",
    "            #store it in an empty list called 'keep'\n",
    "            keep.append(digit)\n",
    "        else:\n",
    "            discard.append(digit)\n",
    "\n",
    "    #display the next largest number as an integer\n",
    "    next_num = int(''.join(keep))\n",
    "    print(next_num)\n",
    "\n",
    "\n",
    "#this function will determine if the digits are in descending order (if so, there is no next larger number)\n",
    "def descending_order(input_string):\n",
    "    \n",
    "    #sort the input_string digits in descending order\n",
    "    sorted_string = ''.join(sorted(input_string, reverse=True)) \n",
    "\n",
    "    #compare the sorted digits to the orignal string of digits\n",
    "    if sorted_string == input_string:\n",
    "        #if they are the same, return a value of 'True'\n",
    "        return('True')\n",
    "        #if they are different, return a value of 'False'\n",
    "    else:\n",
    "        return('False')\n",
    "\n",
    "#this function will ....\n",
    "\n",
    "def next_largest_number(input_string):\n",
    "    \n",
    "    #if there is no next larger number\n",
    "    if descending_order(input_string) == 'True':\n",
    "        #return -1\n",
    "        return(-1)\n",
    "    \n",
    "    #otherwise, execute the function that will \n",
    "    else:\n",
    "        next_num(input_string)\n",
    "    \n",
    "\n",
    "next_largest_number(input_string)\n"
   ]
  }
 ],
 "metadata": {
  "kernelspec": {
   "display_name": "Python 3",
   "language": "python",
   "name": "python3"
  },
  "language_info": {
   "codemirror_mode": {
    "name": "ipython",
    "version": 3
   },
   "file_extension": ".py",
   "mimetype": "text/x-python",
   "name": "python",
   "nbconvert_exporter": "python",
   "pygments_lexer": "ipython3",
   "version": "3.7.8"
  }
 },
 "nbformat": 4,
 "nbformat_minor": 4
}
